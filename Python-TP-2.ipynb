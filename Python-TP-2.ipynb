{
  "cells": [
    {
      "cell_type": "markdown",
      "id": "d68c1dee",
      "metadata": {
        "id": "d68c1dee"
      },
      "source": [
        "# Practical_2: String and files"
      ]
    },
    {
      "cell_type": "markdown",
      "id": "bea983a3",
      "metadata": {
        "id": "bea983a3"
      },
      "source": [
        "---\n",
        "\n",
        "### Exercise 1:\n",
        "Create a string variable `text` and assign it the value `\"Python is amazing!\"`.\n",
        "\n",
        "```python\n",
        "# Exercise 1\n",
        text = python_is_amazing
        
        "### Exercise 2:\n",
        "Find the length of the string `\"Hello, World!\"` and store it in a variable `length`.\n",
        "\n",
        "```python\n",
        "# Exercise 2\n",
        length = len("Hello, world!")
        "### Exercise 3:\n",
        "Convert the string `\"python programming\"` to uppercase and store it in a variable `upper_text`.\n",
        "\n",
        "```python\n",
        "# Exercise 3\n",
       upper_text = "python programming".upper()
        "### Exercise 4:\n",
        "Extract the first 5 characters from the string `\"Artificial Intelligence\"`.\n",
        "\n",
        "```python\n",
        "# Exercise 4\n",
        text ="Artificial Intelligence"
        first_five =text[text :5]
        print(first_five)
        "### Exercise 5:\n",
        "Concatenate the strings `\"Hello\"` and `\"World\"` with a space in between.\n",
        "\n",
        "```python\n",
        "# Exercise 5\n",
       greeting = "Hello"+" "+"world"
       print(greeting)
        "### Exercise 6:\n",
        "Replace the word `\"dog\"` with `\"cat\"` in the string `\"The quick brown dog jumps over the lazy dog.\"`.\n",
        "\n",
        "```python\n",
        "# Exercise 6\n",
        text = "The quick brown dog jumps over the lazy dog."
        new_text = text.replace("dog", "cat")
        print(new_text)
        "### Exercise 7:\n",
        "Split the string `\"apple,banana,orange\"` by commas and store the result in a list `fruits_list`.\n",
        "\n",
        "```python\n",
        "# Exercise 7\n",
        fruits_list = "apple,banana,orange".split(",")
        print(fruits_list)
        "### Exercise 8:\n",
        "Use string formatting to create the sentence `\"My name is Alice and I am 25 years old.\"`, where the name and age are variables.\n",
        "\n",
        "```python\n",
        "# Exercise 8\n",
       name = "Daouda"
       age = 28
       sentence = "My name is {name} and I am {age} years old."
       print(sentence)
        "### Exercise 9:\n",
        "Check if the string `\"python\"` is present in the sentence `\"I love python programming\"`.\n",
        "\n",
        "```python\n",
        "# Exercise 9\n",
       sentence = "I love python programming"
       is_present = "python" in sentence
       print(is_present)
        "### Exercise 10:\n",
        "Count the number of occurrences of the letter `\"e\"` in the string `\"Elephant is an elegant animal\"`.\n",
        "\n",
        "```python\n",
        "# Exercise 10\n",
        text = "Elephant is an elegant animal"
        count_e = text.count("e")
        print(count_e)
        "### Exercise 11:\n",
        "Remove any leading and trailing spaces from the string `\"   Data Science   \"`.\n",
        "\n",
        "```python\n",
        "# Exercise 11\n",
       text = "   Data Science   "
       clean_text = text.strip()
       print(clean_text)
        "### Exercise 12:\n",
        "Convert the string `\"100\"` into an integer and store it in a variable `int_value`.\n",
        "\n",
        "```python\n",
        "# Exercise 12\n"
        int_value = int("100")
        print(int_value)
        "### Exercise 13:\n",
        "Extract the substring `\"pro\"` from the string `\"programming\"`.\n",
        "\n",
        "```python\n",
        "# Exercise 13\n"
        text = "programming"
        substring = text[:3]
        print(substring)
        "### Exercise 14:\n",
        "Check if the string `\"data\"` starts with `\"da\"` and ends with `\"ta\"`.\n",
        "\n",
        "```python\n",
        "# Exercise 14\n",
       word = "data"
       starts = word.startswith("da")
       ends = word.endswith("ta")
       print("Starts with 'da':", starts)
      print("Ends with 'ta':", ends)
        "### Exercise 15:\n",
        "Reverse the string `\"machine learning\"` and store the result in `reversed_text`.\n",
        "\n",
        "```python\n",
        "# Exercise 15\n",
        text = "machine learning"
        reversed_text = text[::-1]
        print(reversed_text)
        "### Exercise 16:\n",
        "Convert the first letter of each word in the string `\"machine learning is fun\"` to uppercase.\n",
        "\n",
        "```python\n",
        "# Exercise 16\n",
        text = "machine learning is fun"
        title_text = text.title()
        print(title_text)
        "### Exercise 17:\n",
        "Create a multiline string representing a poem and store it in a variable `poem`.\n",
        "\n",
        "```python\n",
        "# Exercise 17\n",
        poem  = """Roses are red,
        Violets are blue,
        Python is powerful,
        And so are you."""
        print(poem)
        "### Exercise 18:\n",
        "Write a string to a file named `\"output.txt\"`.\n",
        "\n",
        "```python\n",
        "# Exercise 18\n",

        with open("output.txt", "w") as file:
        file.write("This is the content of the file.")
        "### Exercise 19:\n",
        "Read the contents of a file named `\"data.txt\"` and print it line by line.\n",
        "\n",
        "```python\n",
        "# Exercise 19\n"
        
         with open("data.txt", "r") as file:
       for line in file:
        print(line.strip())
        "### Exercise 20:\n",
        "Check if a file `\"example.txt\"` exists before opening it.\n",
        "\n",
        "```python\n",
        "# Exercise 20\n",
        import os
        if os.path.exists("example.txt"):
        with open("example.txt", "r") as file:
        content = file.read()
        print(content)
        else:
        print("File does not exist.")
        "### Exercise 21:\n",
        "Append a new line `\"This is a new line\"` to an existing file `\"notes.txt\"`.\n",
        "\n",
        "```python\n",
        "# Exercise 21\n",
     
         with open("notes.txt", "a") as file:
        file.write("\nThis is a new line")
        "### Exercise 22:\n",
        "Read the contents of a file `\"log.txt\"` and store each line in a list `log_lines`.\n",
        "\n",
        "```python\n",
        "# Exercise 22\n",
      
       with open("log.txt", "r") as file:
       log_lines = file.readlines()
       print(log_lines)
        "### Exercise 23:\n",
        "Create a new file `\"report.txt\"` and write the string `\"Data analysis report\"` to it.\n",
        "\n",
        "```python\n",
        "# Exercise 23\n",
        
        with open("report.txt", "w") as file:
        file.write("Data analysis report")
        
        "### Exercise 24:\n",
        "Replace the word `\"error\"` with `\"issue\"` in a file `\"log.txt\"`.\n",
        "\n",
        "```python\n",
        "# Exercise 24\n",
        with open("log.txt", "r") as file:
        content = file.read()

        updated_content = content.replace("error", "issue")
        with open("log.txt", "w") as file:
        file.write(updated_content)
        "### Exercise 25:\n",
        "Count the number of words in a text file `\"document.txt\"`.\n",
        "\n",
        "```python\n",
        "# Exercise 25\n",
       # Exercise 25
       with open("document.txt", "r") as file:
       text = file.read()

        word_count = len(text.split())
        print("Number of words:", word_count)
        "### Exercise 26:\n",
        "Write a Python script that reads a file `\"essay.txt\"` and prints the total number of lines, words, and characters.\n",
        "\n",
        "```python\n",
        "# Exercise 26\n",
      
        with open("essay.txt", "r") as file:
        content = file.read()

       lines = content.splitlines()
       words = content.split()
       characters = len(content)

      print("Lines:", len(lines))
      print("Words:", len(words))
      print("Characters:", characters)
        "### Exercise 27:\n",
        "Copy the contents of one file `\"source.txt\"` to another file `\"destination.txt\"`.\n",
        "\n",
        "```python\n",
        "# Exercise 27\n",
        with open("source.txt", "r") as source:
        data = source.read()

        with open("destination.txt", "w") as destination:
        destination.write(data)
        "### Exercise 28:\n",
        "Write a Python function that takes a filename as input and returns the number of lines in the file.\n",
        "\n",
        "```python\n",
        "# Exercise 28\n",
      
        def count_lines(filename):
        with open(filename, "r") as file:
        return len(file.readlines())

        print(count_lines("example.txt"))
        "### Exercise 29:\n",
        "Extract all the words from a text file `\"article.txt\"` that contain more than 5 characters.\n",
        "\n",
        "```python\n",
        "# Exercise 29\n",

        with open("article.txt", "r") as file:
        text = file.read()

        long_words = [word for word in text.split() if len(word) > 5]
        print(long_words)
        "### Exercise 30:\n",
        "Convert the contents of a file `\"notes.txt\"` to uppercase and save the result in another file `\"uppercase_notes.txt\"`.\n",
        "\n",
        "```python\n",
        "# Exercise 30\n",
        with open("notes.txt", "r") as file:
         content = file.read()

        uppercase_content = content.upper()

        with open("uppercase_notes.txt", "w") as file:
        file.write(uppercase_content)
        "### Exercise 31:\n",
        "Write a Python script that reads a file and removes all empty lines.\n",
        "\n",
        "```python\n",
        "# Exercise 31\n",
         with open("input.txt", "r") as file:
         lines = file.readlines()

         non_empty_lines = [line for line in lines if line.strip() != ""]

         with open("input.txt", "w") as file:
         file.writelines(non_empty_lines)
        "### Exercise 32:\n",
        "Open a file `\"config.txt\"` in both read and write mode.\n",
        "\n",
        "```python\n",
        "# Exercise 32\n",
        with open("code.txt", "r") as file:
        content = file.read()

        count = content.count("Python")
        print("Occurrences of 'Python':", count)
        "### Exercise 33:\n",
        "Write a Python function that reads a file and prints the longest line in the file.\n",
        "\n",
        "```python\n",
        "# Exercise 33\n",
        
        with open("report.txt", "r") as source:
       lines = source.readlines()
       with open("summary.txt", "w") as summary:
       summary.writelines(lines[:3])
       
        "### Exercise 34:\n",
        "Write a Python script to count the frequency of each letter in a text file `\"message.txt\"`.\n",
        "\n",
        "```python\n",
        "# Exercise 34\n",
     
        from collections import Counter

        with open("message.txt", "r") as file:
        text = file.read().lower()
        letters = [char for char in text if char.isalpha()]
        frequency = Counter(letters)
        print(frequency)
        "### Exercise 35:\n",
        "Write a Python script that reads a file and prints the total number of characters, excluding spaces.\n",
        "\n",
        "```python\n",
        "# Exercise 35\n",
    
        with open("message.txt", "r") as file:
        text = file.read()
        count = len(text.replace(" ", ""))
        print("Character count (excluding spaces):", count)
        "### Exercise 36:\n",
        "Create a Python script to check whether a file is empty or not.\n",
        "\n",
        "```python\n",
        "# Exercise 36\n",
        import os

        if os.path.getsize("message.txt") == 0:
        print("The file is empty.")
        else:
        print("The file is not empty.")
        "### Exercise 37:\n",
        "Write a Python function that reads a file and removes all punctuation marks from the text.\n",
        "\n",
        "```python\n",
        "# Exercise 37\n",
     
        import string

         def remove_punctuation(filename):
         with open(filename, "r") as file:
         text = file.read()
         cleaned = text.translate(str.maketrans("", "", string.punctuation))
         return cleaned

         print(remove_punctuation("message.txt"))
        "### Exercise 38:\n",
        "Create a Python function that writes a list of strings to a file, each string on a new line.\n",
        "\n",
        "```python\n",
        "# Exercise 38\n",
     
         def write_lines(filename, lines):
         with open(filename, "w") as file:
         for line in lines:
          file.write(line + "\n")

         write_lines("output.txt", ["Hello", "World", "Python is fun"])
        "### Exercise 39:\n",
        "Write a Python script to count the number of lines that start with a specific letter (e.g., \"A\") in a text file.\n",
        "\n",
        "```python\n",
        "# Exercise 39\n",
      
        letter = "A"
        count = 0

         with open("message.txt", "r") as file:
        for line in file:
        if line.startswith(letter):
        count += 1

        print(f"Lines starting with '{letter}':", count)
        "### Exercise 40:\n",
        "Write a Python function that takes a string as input and writes it to a file `\"output.txt\"` in reverse order.\n",
        "\n",
        "```python\n",
        "# Exercise 40\n",
        def write_reversed(text):
        with open("output.txt", "w") as file:
        file.write(text[::-1])

       write_reversed("Hello, Python!")      
        "### Exercise 41:\n",
        "Write a Python script that reads a file and prints all the lines that contain the word `\"Python\"`.\n",
        "\n",
        "```python\n",
        "# Exercise 41\n",
        with open("message.txt", "r") as file:
        for line in file:
        if "Python" in line:
            print(line.strip())
        "### Exercise 42:\n",
        "Write a Python script that opens a file and removes all numeric digits from the file's content.\n",
        "\n",
        "```python\n",
        "# Exercise 42\n",
        with open("message.txt", "r") as file:
        text = file.read()
        cleaned = ''.join([char for char in text if not char.isdigit()])
        print(cleaned)
        "### Exercise 43:\n",
        "Write a Python script to find the most frequent word in a text file `\"book.txt\"`.\n",
        "\n",
        "```python\n",
        "# Exercise 43\n",
        
        from collections import Counter
        import 
        with open("book.txt", "r") as file:
        words = re.findall(r'\b\w+\b', file.read().lower())
        most_common = Counter(words).most_common(1)
        print("Most frequent word:", most_common[0][0])      
         "### Exercise 44:\n",
        "Write a Python script that reads a file and prints all the lines that contain exactly 5 words.\n",
        "\n",
        "```python\n",
        "# Exercise 44\n",
        
        with open("message.txt", "r") as file:
        for line in file:
        if len(line.split()) == 5:
            print(line.strip())
        "### Exercise 45:\n",
        "Write a Python script to read a file and print the first and last line of the file.\n",
        "\n",
        "```python\n",
        "# Exercise 45\n",
        
        with open("message.txt", "r") as file:
        lines = file.readlines()
        if lines:
        print("First line:", lines[0].strip())
        print("Last line:", lines[-1].strip())
        "### Exercise 46:\n",
        "Write a Python script that checks if a file `\"students.txt\"` is writable.\n",
        "\n",
        "```python\n",
        "# Exercise 46\n",
     
        try:   
        with open("students.txt", "a") as file:
        writable = file.writable()
        print("Writable:", writable)
        except IOError:
        print("File is not writable.")
        "### Exercise 47:\n",
        "Create a Python function that opens a file and returns the number of unique words in the file.\n",
        "\n",
        "```python\n",
        "# Exercise 47\n",
         def unique_word_count(filename):
         with open(filename, "r") as file:
         words = set(file.read().lower().split())
         return len(words)

         print("Unique words:", unique_word_count("message.txt"))
        "### Exercise 48:\n",
        "Write a Python script that reads a file and prints all lines in reverse order.\n",
        "\n",
        "```python\n",
        "# Exercise 48\n"
        with open("message.txt", "r") as file:
        lines = file.readlines()
        for line in reversed(lines):
        print(line.strip())
        "### Exercise 49:\n",
        "Write a Python function that reads a file and returns the most common letter in the text.\n",
        "\n",
        "```python\n",
        "# Exercise 49\n",
        
       from collections import Counter
       with open("message.txt", "r") as file:
       text = file.read().lower()
      letters = [char for char in text if char.isalpha()]
      most_common = Counter(letters).most_common(1)
      print("Most common letter:", most_common[0][0])
        "### Exercise 50:\n",
        "Write a Python script that reads a file and replaces every occurrence of `\"Python\"` with `\"Java\"`.\n",
        "\n",
        "```python\n",
        "# Exercise 50\n",
        "```\n",
        "\n",
        "---\n",
        "\n"
      ]
    },
    {
      "cell_type": "code",
      "execution_count": null,
      "id": "dcf6ca38",
      "metadata": {
        "id": "dcf6ca38"
      },
      "outputs": [],
      "source": []
    }
  ],
  "metadata": {
    "kernelspec": {
      "display_name": "Python 3 (ipykernel)",
      "language": "python",
      "name": "python3"
    },
    "language_info": {
      "codemirror_mode": {
        "name": "ipython",
        "version": 3
      },
      "file_extension": ".py",
      "mimetype": "text/x-python",
      "name": "python",
      "nbconvert_exporter": "python",
      "pygments_lexer": "ipython3",
      "version": "3.11.2"
    },
    "colab": {
      "provenance": []
    }
  },
  "nbformat": 4,
  "nbformat_minor": 5
}