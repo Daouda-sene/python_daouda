{
 "cells": [
  {
   "cell_type": "markdown",
   "id": "426486dd",
   "metadata": {
    "id": "426486dd"
   },
   "source": [
    "\n",
    "\n",
    "# Practical_1: Variables and Assignments"
   ]
  },
  {
   "cell_type": "markdown",
   "id": "c18ba066",
   "metadata": {
    "id": "9fb19f0d"
   },
   "source": [
    "----\n",
    "\n",
    "### Exercise 1:\n",
    "Declare a variable `x` and assign it the value `10`.\n",
    "\n",
    "```python\n",
    "# Exercise 1\n",
    "```\n",
    "\n",
    "---"
   ]
  },
  {
   "cell_type": "code",
   "execution_count": 1,
   "id": "c54c7855",
   "metadata": {},
   "outputs": [],
   "source": [
    "x = 10"
   ]
  },
  {
   "cell_type": "markdown",
   "id": "b347e982",
   "metadata": {
    "id": "9fb19f0d"
   },
   "source": [
    "### Exercise 2:\n",
    "Assign the value `True` to a variable called `is_valid`.\n",
    "\n",
    "```python\n",
    "# Exercise 2\n",
    "```\n",
    "\n",
    "--"
   ]
  },
  {
   "cell_type": "code",
   "execution_count": 2,
   "id": "d0d21f9f",
   "metadata": {},
   "outputs": [],
   "source": [
    "is_valid = True"
   ]
  },
  {
   "cell_type": "markdown",
   "id": "e2319c3e",
   "metadata": {
    "id": "9fb19f0d"
   },
   "source": [
    "-\n",
    "\n",
    "### Exercise 3:\n",
    "Create a string variable `name` with the value \"Python Programming\".\n",
    "\n",
    "```python\n",
    "# Exercise 3\n",
    "```\n",
    "\n",
    "-"
   ]
  },
  {
   "cell_type": "code",
   "execution_count": 3,
   "id": "f1923b8f",
   "metadata": {},
   "outputs": [],
   "source": [
    " name = \"Python Programming\"\n"
   ]
  },
  {
   "cell_type": "markdown",
   "id": "ea92e34c",
   "metadata": {
    "id": "9fb19f0d"
   },
   "source": [
    "--\n",
    "\n",
    "### Exercise 4:\n",
    "Assign the result of `5 + 3` to a variable `sum_result`.\n",
    "\n",
    "```python\n",
    "# Exercise 4\n",
    "```\n",
    "\n",
    "---"
   ]
  },
  {
   "cell_type": "code",
   "execution_count": 5,
   "id": "5e0f84f4",
   "metadata": {},
   "outputs": [
    {
     "name": "stdout",
     "output_type": "stream",
     "text": [
      "8\n"
     ]
    }
   ],
   "source": [
    "sum_result = 5 + 3\n",
    "print(sum_result)"
   ]
  },
  {
   "cell_type": "markdown",
   "id": "956c6ff8",
   "metadata": {
    "id": "9fb19f0d"
   },
   "source": [
    "### Exercise 5:\n",
    "Assign multiple variables in one line: `a = 5`, `b = 10`, `c = 15`.\n",
    "\n",
    "```python\n",
    "# Exercise 5\n",
    "```\n",
    "\n",
    "---"
   ]
  },
  {
   "cell_type": "code",
   "execution_count": 11,
   "id": "6c1214b3",
   "metadata": {},
   "outputs": [
    {
     "name": "stdout",
     "output_type": "stream",
     "text": [
      "5 10 15\n"
     ]
    }
   ],
   "source": [
    "a, b, c = 5, 10, 15\n",
    "print(a, b, c)"
   ]
  },
  {
   "cell_type": "markdown",
   "id": "f3ab45eb",
   "metadata": {
    "id": "9fb19f0d"
   },
   "source": [
    "### Exercise 6:\n",
    "Assign the value of one variable `x` to another variable `y`.\n",
    "\n",
    "```python\n",
    "# Exercise 6\n",
    "```\n",
    "\n",
    "---"
   ]
  },
  {
   "cell_type": "code",
   "execution_count": 14,
   "id": "71d04748",
   "metadata": {},
   "outputs": [],
   "source": [
    "x = y =3"
   ]
  },
  {
   "cell_type": "markdown",
   "id": "4194aebe",
   "metadata": {
    "id": "9fb19f0d"
   },
   "source": [
    "### Exercise 7:\n",
    "Assign a floating-point number `9.8` to a variable `gravity`.\n",
    "\n",
    "```python\n",
    "# Exercise 7\n",
    "```\n",
    "\n",
    "-"
   ]
  },
  {
   "cell_type": "code",
   "execution_count": 16,
   "id": "b5e7912f",
   "metadata": {},
   "outputs": [
    {
     "name": "stdout",
     "output_type": "stream",
     "text": [
      "9.8\n"
     ]
    }
   ],
   "source": [
    "gravity_constante = 9.8\n",
    "print(gravity_constante)"
   ]
  },
  {
   "cell_type": "markdown",
   "id": "acfaf41b",
   "metadata": {
    "id": "9fb19f0d"
   },
   "source": [
    "--\n",
    "\n",
    "### Exercise 8:\n",
    "Create a variable `country` and assign it the string value of your favorite country.\n",
    "\n",
    "```python\n",
    "# Exercise 8\n",
    "```\n",
    "\n",
    "---"
   ]
  },
  {
   "cell_type": "code",
   "execution_count": 17,
   "id": "24458a80",
   "metadata": {},
   "outputs": [],
   "source": [
    " country = \"Senegal\""
   ]
  },
  {
   "cell_type": "markdown",
   "id": "e9498cf8",
   "metadata": {
    "id": "9fb19f0d"
   },
   "source": [
    "### Exercise 9:\n",
    "Change the value of variable `age` from `25` to `26` in two separate steps.\n",
    "\n",
    "```python\n",
    "# Exercise 9\n",
    "```\n",
    "\n",
    "--"
   ]
  },
  {
   "cell_type": "code",
   "execution_count": null,
   "id": "28f1b75d",
   "metadata": {},
   "outputs": [],
   "source": []
  },
  {
   "cell_type": "markdown",
   "id": "2a502c0f",
   "metadata": {
    "id": "9fb19f0d"
   },
   "source": [
    "-\n",
    "\n",
    "### Exercise 10:\n",
    "Use one variable to store the result of subtracting two numbers `20 - 7`.\n",
    "\n",
    "```python\n",
    "# Exercise 10\n",
    "```\n",
    "\n",
    "---"
   ]
  },
  {
   "cell_type": "code",
   "execution_count": 21,
   "id": "daa1c06f",
   "metadata": {},
   "outputs": [
    {
     "name": "stdout",
     "output_type": "stream",
     "text": [
      "14\n"
     ]
    }
   ],
   "source": [
    "result = 20-6\n",
    "print(result)"
   ]
  },
  {
   "cell_type": "markdown",
   "id": "0d6cdd2c",
   "metadata": {
    "id": "9fb19f0d"
   },
   "source": [
    "### Exercise 11:\n",
    "Assign an integer value and a floating-point value to two different variables.\n",
    "\n",
    "```python\n",
    "# Exercise 11\n",
    "```\n",
    "\n",
    "---"
   ]
  },
  {
   "cell_type": "code",
   "execution_count": null,
   "id": "553cd34d",
   "metadata": {},
   "outputs": [],
   "source": []
  },
  {
   "cell_type": "markdown",
   "id": "e47cb7a2",
   "metadata": {
    "id": "9fb19f0d"
   },
   "source": [
    "### Exercise 12:\n",
    "Assign a boolean value `False` to a variable `is_completed`.\n",
    "\n",
    "```python\n",
    "# Exercise 12\n",
    "```\n",
    "\n",
    "--"
   ]
  },
  {
   "cell_type": "code",
   "execution_count": null,
   "id": "39fec5ab",
   "metadata": {},
   "outputs": [],
   "source": [
    "  is_completed = False\n"
   ]
  },
  {
   "cell_type": "markdown",
   "id": "7823a9aa",
   "metadata": {
    "id": "9fb19f0d"
   },
   "source": [
    "-\n",
    "\n",
    "### Exercise 13:\n",
    "Swap the values of two variables `x` and `y`.\n",
    "\n",
    "```python\n",
    "# Exercise 13\n",
    "```\n",
    "\n",
    "---"
   ]
  },
  {
   "cell_type": "code",
   "execution_count": 23,
   "id": "da54cda5",
   "metadata": {},
   "outputs": [],
   "source": [
    "x, y = x, y\n"
   ]
  },
  {
   "cell_type": "markdown",
   "id": "1a48ce52",
   "metadata": {
    "id": "9fb19f0d"
   },
   "source": [
    "### Exercise 14:\n",
    "Assign a complex number `3 + 4j` to a variable `complex_num`.\n",
    "\n",
    "```python\n",
    "# Exercise 14\n",
    "```\n",
    "\n",
    "---"
   ]
  },
  {
   "cell_type": "code",
   "execution_count": 24,
   "id": "a6aee2b8",
   "metadata": {},
   "outputs": [],
   "source": [
    " complex_num = 3 + 4j\n"
   ]
  },
  {
   "cell_type": "markdown",
   "id": "4e95f6ef",
   "metadata": {
    "id": "9fb19f0d"
   },
   "source": [
    "### Exercise 15:\n",
    "Reassign a variable from an integer to a string.\n",
    "\n",
    "```python\n",
    "# Exercise 15\n",
    "```\n",
    "\n",
    "---"
   ]
  },
  {
   "cell_type": "code",
   "execution_count": 26,
   "id": "4cc0e7f6",
   "metadata": {},
   "outputs": [],
   "source": [
    "value = 100      # Initially an integer\n",
    "value = \"one hundred\""
   ]
  },
  {
   "cell_type": "markdown",
   "id": "76455f8c",
   "metadata": {
    "id": "9fb19f0d"
   },
   "source": [
    "### Exercise 16:\n",
    "Create two variables `first_name` and `last_name`, and assign them your first and last names.\n",
    "\n",
    "```python\n",
    "# Exercise 16\n",
    "```\n",
    "\n",
    "-"
   ]
  },
  {
   "cell_type": "code",
   "execution_count": 27,
   "id": "95db7590",
   "metadata": {},
   "outputs": [],
   "source": [
    " first_name = \"Séne\"\n",
    "last_name = \"Daouda\"\n"
   ]
  },
  {
   "cell_type": "markdown",
   "id": "fc9184dc",
   "metadata": {
    "id": "9fb19f0d"
   },
   "source": [
    "--\n",
    "\n",
    "### Exercise 17:\n",
    "Create a variable `temperature` and assign it the value of `35.5`.\n",
    "\n",
    "```python\n",
    "# Exercise 17\n",
    "```\n",
    "\n",
    "--"
   ]
  },
  {
   "cell_type": "code",
   "execution_count": 28,
   "id": "35bb078a",
   "metadata": {},
   "outputs": [],
   "source": [
    "temperature = 35.5\n"
   ]
  },
  {
   "cell_type": "markdown",
   "id": "5ff04ad7",
   "metadata": {
    "id": "9fb19f0d"
   },
   "source": [
    "-\n",
    "\n",
    "### Exercise 18:\n",
    "Assign the result of the multiplication of two numbers `8 * 6` to a variable `product`.\n",
    "\n",
    "```python\n",
    "# Exercise 18\n",
    "```\n",
    "\n",
    "---"
   ]
  },
  {
   "cell_type": "code",
   "execution_count": 30,
   "id": "04a0d6d2",
   "metadata": {},
   "outputs": [
    {
     "name": "stdout",
     "output_type": "stream",
     "text": [
      "24\n"
     ]
    }
   ],
   "source": [
    " product = 8*3\n",
    "print(product)"
   ]
  },
  {
   "cell_type": "markdown",
   "id": "b75c6b9c",
   "metadata": {
    "id": "9fb19f0d"
   },
   "source": [
    "### Exercise 19:\n",
    "Assign a sentence of your choice to a variable `sentence`.\n",
    "\n",
    "```python\n",
    "# Exercise 19\n",
    "```\n",
    "\n",
    "--"
   ]
  },
  {
   "cell_type": "code",
   "execution_count": 31,
   "id": "b2f006b8",
   "metadata": {},
   "outputs": [],
   "source": [
    "sentence = \"Learning Python is both fun and empowering!\"\n"
   ]
  },
  {
   "cell_type": "markdown",
   "id": "39e297ce",
   "metadata": {
    "id": "9fb19f0d"
   },
   "source": [
    "-\n",
    "\n",
    "### Exercise 20:\n",
    "Use an assignment to convert a string `'50'` into an integer variable `int_value`.\n",
    "\n",
    "```python\n",
    "# Exercise 20\n",
    "```\n",
    "\n",
    "--"
   ]
  },
  {
   "cell_type": "code",
   "execution_count": 33,
   "id": "fafe22ee",
   "metadata": {},
   "outputs": [
    {
     "name": "stdout",
     "output_type": "stream",
     "text": [
      "50\n"
     ]
    }
   ],
   "source": [
    "int_value = int('50')\n",
    "print(int_value)"
   ]
  },
  {
   "cell_type": "markdown",
   "id": "61488986",
   "metadata": {
    "id": "9fb19f0d"
   },
   "source": [
    "-\n",
    "\n",
    "### Exercise 21:\n",
    "Assign the result of dividing `144` by `12` to a variable `quotient`.\n",
    "\n",
    "```python\n",
    "# Exercise 21\n",
    "```\n",
    "\n",
    "-"
   ]
  },
  {
   "cell_type": "code",
   "execution_count": 34,
   "id": "f2b2cfc8",
   "metadata": {},
   "outputs": [
    {
     "name": "stdout",
     "output_type": "stream",
     "text": [
      "12.0\n"
     ]
    }
   ],
   "source": [
    "quotient = 144 / 12\n",
    "print(quotient)\n"
   ]
  },
  {
   "cell_type": "markdown",
   "id": "43b28a9a",
   "metadata": {
    "id": "9fb19f0d"
   },
   "source": [
    "--\n",
    "\n",
    "### Exercise 22:\n",
    "Assign the remainder of `47 divided by 5` to a variable `remainder`.\n",
    "\n",
    "```python\n",
    "# Exercise 22\n",
    "```\n",
    "\n",
    "--"
   ]
  },
  {
   "cell_type": "code",
   "execution_count": 35,
   "id": "14df0688",
   "metadata": {},
   "outputs": [
    {
     "name": "stdout",
     "output_type": "stream",
     "text": [
      "2\n"
     ]
    }
   ],
   "source": [
    "  remainder = 47 % 5\n",
    "print(remainder)"
   ]
  },
  {
   "cell_type": "markdown",
   "id": "217a6738",
   "metadata": {
    "id": "9fb19f0d"
   },
   "source": [
    "-\n",
    "\n",
    "### Exercise 23:\n",
    "Create a variable `is_student` and assign it the value `True`.\n",
    "\n",
    "```python\n",
    "# Exercise 23\n",
    "```\n",
    "\n",
    "-"
   ]
  },
  {
   "cell_type": "code",
   "execution_count": null,
   "id": "7eb067cc",
   "metadata": {},
   "outputs": [],
   "source": [
    "is_completed = True\n"
   ]
  },
  {
   "cell_type": "markdown",
   "id": "81ab13fb",
   "metadata": {
    "id": "9fb19f0d"
   },
   "source": [
    "--\n",
    "\n",
    "### Exercise 24:\n",
    "Use a variable to store the result of a modulo operation: `45 % 4`.\n",
    "\n",
    "```python\n",
    "# Exercise 24\n",
    "```\n",
    "\n",
    "--"
   ]
  },
  {
   "cell_type": "code",
   "execution_count": 40,
   "id": "6706379a",
   "metadata": {},
   "outputs": [
    {
     "ename": "SyntaxError",
     "evalue": "invalid non-printable character U+00A0 (1894933944.py, line 1)",
     "output_type": "error",
     "traceback": [
      "\u001b[1;36m  Input \u001b[1;32mIn [40]\u001b[1;36m\u001b[0m\n\u001b[1;33m    result = 45 % 4\u001b[0m\n\u001b[1;37m                 ^\u001b[0m\n\u001b[1;31mSyntaxError\u001b[0m\u001b[1;31m:\u001b[0m invalid non-printable character U+00A0\n"
     ]
    }
   ],
   "source": [
    "result = 45 % 4\n"
   ]
  },
  {
   "cell_type": "markdown",
   "id": "5881f6e1",
   "metadata": {
    "id": "9fb19f0d"
   },
   "source": [
    "-\n",
    "\n",
    "### Exercise 25:\n",
    "Create a variable `pi` and assign it the value `3.14159`.\n",
    "\n",
    "```python\n",
    "# Exercise 25\n",
    "```\n",
    "\n",
    "-"
   ]
  },
  {
   "cell_type": "code",
   "execution_count": 41,
   "id": "bb4c3483",
   "metadata": {},
   "outputs": [],
   "source": [
    " pi = 3.14159\n"
   ]
  },
  {
   "cell_type": "markdown",
   "id": "0f8a1c8e",
   "metadata": {
    "id": "9fb19f0d"
   },
   "source": [
    "--\n",
    "\n",
    "### Exercise 26:\n",
    "Create two variables `length` and `width`, assign them values, and calculate the area of a rectangle.\n",
    "\n",
    "```python\n",
    "# Exercise 26\n",
    "```\n",
    "\n",
    "-"
   ]
  },
  {
   "cell_type": "code",
   "execution_count": 45,
   "id": "011fb53e",
   "metadata": {},
   "outputs": [],
   "source": [
    "length = 7\n",
    "width = 4\n",
    "area = 7 + 4"
   ]
  },
  {
   "cell_type": "markdown",
   "id": "62f06e35",
   "metadata": {
    "id": "9fb19f0d"
   },
   "source": [
    "--\n",
    "\n",
    "### Exercise 27:\n",
    "Assign a negative number to a variable `negative_value`.\n",
    "\n",
    "```python\n",
    "# Exercise 27\n",
    "```\n",
    "\n",
    "-"
   ]
  },
  {
   "cell_type": "code",
   "execution_count": 46,
   "id": "94cf560d",
   "metadata": {},
   "outputs": [],
   "source": [
    "negative_value = - 25\n"
   ]
  },
  {
   "cell_type": "markdown",
   "id": "debe7283",
   "metadata": {
    "id": "9fb19f0d"
   },
   "source": [
    "--\n",
    "\n",
    "### Exercise 28:\n",
    "Assign a string containing a special character (e.g., \"Hello, World!\") to a variable `greeting`.\n",
    "\n",
    "```python\n",
    "# Exercise 28\n",
    "```\n",
    "\n",
    "-"
   ]
  },
  {
   "cell_type": "code",
   "execution_count": 47,
   "id": "e5329121",
   "metadata": {},
   "outputs": [],
   "source": [
    "great = \"Hello, World\"\n"
   ]
  },
  {
   "cell_type": "markdown",
   "id": "37667f99",
   "metadata": {
    "id": "9fb19f0d"
   },
   "source": [
    "--\n",
    "\n",
    "### Exercise 29:\n",
    "Create a variable `population` and assign it a large integer value (in billions).\n",
    "\n",
    "```python\n",
    "# Exercise 29\n",
    "```\n",
    "\n",
    "---"
   ]
  },
  {
   "cell_type": "code",
   "execution_count": 48,
   "id": "d8b50f46",
   "metadata": {},
   "outputs": [],
   "source": [
    "  population = 8000000\n"
   ]
  },
  {
   "cell_type": "markdown",
   "id": "21eaa7ac",
   "metadata": {
    "id": "9fb19f0d"
   },
   "source": [
    "### Exercise 30:\n",
    "Use a variable to store the result of raising `2` to the power of `8`.\n",
    "\n",
    "```python\n",
    "# Exercise 30\n",
    "```\n",
    "\n",
    "---"
   ]
  },
  {
   "cell_type": "code",
   "execution_count": 53,
   "id": "024cb4ed",
   "metadata": {},
   "outputs": [
    {
     "name": "stdout",
     "output_type": "stream",
     "text": [
      "256\n"
     ]
    }
   ],
   "source": [
    "power_result = 2**8\n",
    "print(power_result)"
   ]
  },
  {
   "cell_type": "markdown",
   "id": "4acd6142",
   "metadata": {
    "id": "9fb19f0d"
   },
   "source": [
    "### Exercise 31:\n",
    "Assign a list of your favorite fruits to a variable `fruits`.\n",
    "\n",
    "```python\n",
    "# Exercise 31\n",
    "```\n",
    "\n",
    "---"
   ]
  },
  {
   "cell_type": "code",
   "execution_count": 54,
   "id": "08354656",
   "metadata": {},
   "outputs": [],
   "source": [
    "list = [4, 5, 9, 10]"
   ]
  },
  {
   "cell_type": "markdown",
   "id": "5807fc2a",
   "metadata": {
    "id": "9fb19f0d"
   },
   "source": [
    "### Exercise 32:\n",
    "Assign a tuple of three numbers to a variable `coordinates`.\n",
    "\n",
    "```python\n",
    "# Exercise 32\n",
    "```\n",
    "\n",
    "--"
   ]
  },
  {
   "cell_type": "code",
   "execution_count": 55,
   "id": "8a4fd066",
   "metadata": {},
   "outputs": [
    {
     "ename": "SyntaxError",
     "evalue": "invalid non-printable character U+00A0 (57963266.py, line 1)",
     "output_type": "error",
     "traceback": [
      "\u001b[1;36m  Input \u001b[1;32mIn [55]\u001b[1;36m\u001b[0m\n\u001b[1;33m    coordinates = (10, 20, 30)\u001b[0m\n\u001b[1;37m                          ^\u001b[0m\n\u001b[1;31mSyntaxError\u001b[0m\u001b[1;31m:\u001b[0m invalid non-printable character U+00A0\n"
     ]
    }
   ],
   "source": [
    " coordinates = (10, 20, 30)\n"
   ]
  },
  {
   "cell_type": "markdown",
   "id": "e49da287",
   "metadata": {
    "id": "9fb19f0d"
   },
   "source": [
    "-\n",
    "\n",
    "### Exercise 33:\n",
    "Assign a dictionary with keys `name` and `age` to a variable `person`.\n",
    "\n",
    "```python\n",
    "# Exercise 33\n",
    "```\n",
    "\n",
    "-"
   ]
  },
  {
   "cell_type": "markdown",
   "id": "fa5b6b22",
   "metadata": {},
   "source": []
  },
  {
   "cell_type": "code",
   "execution_count": 59,
   "id": "816fe4e1",
   "metadata": {},
   "outputs": [],
   "source": [
    "person ={\"name\":\"Daouda\", \"age\": 23}\n"
   ]
  },
  {
   "cell_type": "markdown",
   "id": "4334dfa4",
   "metadata": {
    "id": "9fb19f0d"
   },
   "source": [
    "--\n",
    "\n",
    "### Exercise 34:\n",
    "Use variables to store the sum of two floating-point numbers.\n",
    "\n",
    "```python\n",
    "# Exercise 34\n",
    "```\n",
    "\n",
    "--"
   ]
  },
  {
   "cell_type": "code",
   "execution_count": 64,
   "id": "65edaeaa",
   "metadata": {},
   "outputs": [],
   "source": [
    "num_1 = 3\n",
    "num_2 =8\n",
    "sum_num = num_1 + num_2\n"
   ]
  },
  {
   "cell_type": "markdown",
   "id": "8f8ce300",
   "metadata": {
    "id": "9fb19f0d"
   },
   "source": [
    "-\n",
    "\n",
    "### Exercise 35:\n",
    "Create a variable `is_sunny` and assign it the result of a comparison `10 > 5`.\n",
    "\n",
    "```python\n",
    "# Exercise 35\n",
    "```"
   ]
  },
  {
   "cell_type": "code",
   "execution_count": null,
   "id": "e394fd15",
   "metadata": {},
   "outputs": [],
   "source": []
  },
  {
   "cell_type": "markdown",
   "id": "6fbc7a3c",
   "metadata": {
    "id": "9fb19f0d"
   },
   "source": [
    "---\n",
    "\n",
    "### Exercise 36:\n",
    "Assign a string and an integer to two different variables, then print both on one line.\n",
    "\n",
    "```python\n",
    "# Exercise 36\n",
    "```\n",
    "\n",
    "---"
   ]
  },
  {
   "cell_type": "code",
   "execution_count": 76,
   "id": "fe1fa1e3",
   "metadata": {},
   "outputs": [
    {
     "ename": "SyntaxError",
     "evalue": "cannot assign to literal (4122574665.py, line 1)",
     "output_type": "error",
     "traceback": [
      "\u001b[1;36m  Input \u001b[1;32mIn [76]\u001b[1;36m\u001b[0m\n\u001b[1;33m    \"name\" = \"Alice\"\u001b[0m\n\u001b[1;37m    ^\u001b[0m\n\u001b[1;31mSyntaxError\u001b[0m\u001b[1;31m:\u001b[0m cannot assign to literal\n"
     ]
    }
   ],
   "source": []
  },
  {
   "cell_type": "markdown",
   "id": "51a06a0f",
   "metadata": {
    "id": "9fb19f0d"
   },
   "source": [
    "### Exercise 37:\n",
    "Reassign a variable that originally held a number to a boolean value.\n",
    "\n",
    "```python\n",
    "# Exercise 37\n",
    "```\n",
    "\n",
    "---"
   ]
  },
  {
   "cell_type": "code",
   "execution_count": 78,
   "id": "9d5ed86d",
   "metadata": {},
   "outputs": [],
   "source": [
    "value = 100\n",
    "value = False\n"
   ]
  },
  {
   "cell_type": "markdown",
   "id": "a84e53c6",
   "metadata": {
    "id": "9fb19f0d"
   },
   "source": [
    "### Exercise 38:\n",
    "Create a variable `is_weekend` and assign it the result of `False`.\n",
    "\n",
    "```python\n",
    "# Exercise 38\n",
    "```\n",
    "\n",
    "---"
   ]
  },
  {
   "cell_type": "code",
   "execution_count": 79,
   "id": "c8698c0f",
   "metadata": {},
   "outputs": [],
   "source": [
    "is_weekend = False\n"
   ]
  },
  {
   "cell_type": "markdown",
   "id": "7039608c",
   "metadata": {
    "id": "9fb19f0d"
   },
   "source": [
    "### Exercise 39:\n",
    "Assign a multi-line string to a variable `description`.\n",
    "\n",
    "```python\n",
    "# Exercise 39\n",
    "```\n",
    "\n",
    "---"
   ]
  },
  {
   "cell_type": "code",
   "execution_count": 80,
   "id": "10a91895",
   "metadata": {},
   "outputs": [],
   "source": [
    "description = \"\"\"Ceci est une chaîne de caractères\n",
    "     sur plusieurs lignes.\n",
    "     Elle peut contenir des retours à la ligne,\n",
    "     des tabulations, et d'autres caractères spéciaux.\"\"\"\n"
   ]
  },
  {
   "cell_type": "markdown",
   "id": "1047ae54",
   "metadata": {
    "id": "9fb19f0d"
   },
   "source": [
    "### Exercise 40:\n",
    "Use variables to store the result of the absolute value of `-25`.\n",
    "\n",
    "```python\n",
    "# Exercise 40\n",
    "```\n",
    "\n",
    "--"
   ]
  },
  {
   "cell_type": "code",
   "execution_count": 82,
   "id": "9f391b02",
   "metadata": {},
   "outputs": [],
   "source": [
    "valeur = -25\n",
    "valeur_absolue = abs(valeur)\n",
    "    \n"
   ]
  },
  {
   "cell_type": "markdown",
   "id": "545bf45b",
   "metadata": {
    "id": "9fb19f0d"
   },
   "source": [
    "-\n",
    "\n",
    "### Exercise 41:\n",
    "Assign the result of a floor division `100 // 6` to a variable `floor_div_result`.\n",
    "\n",
    "```python\n",
    "# Exercise 41\n",
    "```\n",
    "\n",
    "--"
   ]
  },
  {
   "cell_type": "code",
   "execution_count": 85,
   "id": "f975fce9",
   "metadata": {},
   "outputs": [
    {
     "ename": "SyntaxError",
     "evalue": "invalid non-printable character U+00A0 (928295310.py, line 1)",
     "output_type": "error",
     "traceback": [
      "\u001b[1;36m  Input \u001b[1;32mIn [85]\u001b[1;36m\u001b[0m\n\u001b[1;33m    floor_div_result = 100 // 6\u001b[0m\n\u001b[1;37m                          ^\u001b[0m\n\u001b[1;31mSyntaxError\u001b[0m\u001b[1;31m:\u001b[0m invalid non-printable character U+00A0\n"
     ]
    }
   ],
   "source": [
    "floor_div_result = 100 // 6\n"
   ]
  },
  {
   "cell_type": "markdown",
   "id": "a82861e2",
   "metadata": {
    "id": "9fb19f0d"
   },
   "source": [
    "-\n",
    "\n",
    "### Exercise 42:\n",
    "Assign the result of adding a floating-point number to an integer to a variable `mixed_sum`.\n",
    "\n",
    "```python\n",
    "# Exercise 42\n",
    "```\n",
    "\n",
    "--"
   ]
  },
  {
   "cell_type": "code",
   "execution_count": 94,
   "id": "f2165006",
   "metadata": {},
   "outputs": [],
   "source": [
    "mixed_sum = 8.89 + 4"
   ]
  },
  {
   "cell_type": "markdown",
   "id": "3e2905b3",
   "metadata": {
    "id": "9fb19f0d"
   },
   "source": [
    "-\n",
    "\n",
    "\n",
    "### Exercise 43:\n",
    "Assign a boolean value based on the comparison of two variables `a = 10` and `b = 15`.\n",
    "\n",
    "```python\n",
    "# Exercise 43\n",
    "```\n",
    "\n",
    "---"
   ]
  },
  {
   "cell_type": "code",
   "execution_count": 100,
   "id": "13189142",
   "metadata": {},
   "outputs": [
    {
     "ename": "SyntaxError",
     "evalue": "invalid syntax (2478560992.py, line 3)",
     "output_type": "error",
     "traceback": [
      "\u001b[1;36m  Input \u001b[1;32mIn [100]\u001b[1;36m\u001b[0m\n\u001b[1;33m    is_greater b > a\u001b[0m\n\u001b[1;37m               ^\u001b[0m\n\u001b[1;31mSyntaxError\u001b[0m\u001b[1;31m:\u001b[0m invalid syntax\n"
     ]
    }
   ],
   "source": []
  },
  {
   "cell_type": "markdown",
   "id": "a4848df3",
   "metadata": {
    "id": "9fb19f0d"
   },
   "source": [
    "### Exercise 44:\n",
    "Assign a long sentence to a variable and count its characters using `len()`.\n",
    "\n",
    "```python\n",
    "# Exercise 44\n",
    "```\n",
    "\n",
    "--"
   ]
  },
  {
   "cell_type": "code",
   "execution_count": 102,
   "id": "2b020980",
   "metadata": {},
   "outputs": [
    {
     "name": "stdout",
     "output_type": "stream",
     "text": [
      "98\n"
     ]
    }
   ],
   "source": [
    "phrase = \"Le développement durable est essentiel pour préserver notre planète et assurer un avenir meilleur.\"\n",
    "nombre_de_caracteres = len(phrase)\n",
    "print(nombre_de_caracteres)\n"
   ]
  },
  {
   "cell_type": "markdown",
   "id": "ae0fd196",
   "metadata": {
    "id": "9fb19f0d"
   },
   "source": [
    "-\n",
    "\n",
    "### Exercise 45:\n",
    "Assign a fractional result `7 / 3` to a variable `division_result`.\n",
    "\n",
    "```python\n",
    "# Exercise 45\n",
    "```\n",
    "\n",
    "---"
   ]
  },
  {
   "cell_type": "code",
   "execution_count": 104,
   "id": "66b913a2",
   "metadata": {},
   "outputs": [],
   "source": [
    "division_result = 7/3"
   ]
  },
  {
   "cell_type": "markdown",
   "id": "96b6e166",
   "metadata": {
    "id": "9fb19f0d"
   },
   "source": [
    "### Exercise 46:\n",
    "Create a variable `speed` and assign it the value of 100 kilometers per hour.\n",
    "\n",
    "```python\n",
    "# Exercise 46\n",
    "```\n",
    "\n",
    "---"
   ]
  },
  {
   "cell_type": "code",
   "execution_count": 105,
   "id": "034eba52",
   "metadata": {},
   "outputs": [],
   "source": [
    "speed = 150  # kilomètres par heure"
   ]
  },
  {
   "cell_type": "markdown",
   "id": "b64824da",
   "metadata": {
    "id": "9fb19f0d"
   },
   "source": [
    "### Exercise 47:\n",
    "Assign a multi-variable equation like `y = 3x + 5` where `x = 4` to a variable `y`.\n",
    "\n",
    "```python\n",
    "# Exercise 47\n",
    "```\n",
    "\n",
    "--"
   ]
  },
  {
   "cell_type": "code",
   "execution_count": 107,
   "id": "024baa67",
   "metadata": {},
   "outputs": [],
   "source": [
    "x = 4\n",
    "y = 3*x + 5"
   ]
  },
  {
   "cell_type": "markdown",
   "id": "9fb19f0d",
   "metadata": {
    "id": "9fb19f0d"
   },
   "source": [
    "-\n",
    "\n",
    "### Exercise 48:\n",
    "Use variables to calculate and store the average of three numbers.\n",
    "\n",
    "```python\n",
    "# Exercise 48\n",
    "```\n",
    "\n",
    "****"
   ]
  },
  {
   "cell_type": "code",
   "execution_count": 112,
   "id": "b9cf72d2",
   "metadata": {},
   "outputs": [],
   "source": [
    "t = 12\n",
    "y = 18\n",
    "X = 24\n",
    "average = (t+y+x)\n"
   ]
  },
  {
   "cell_type": "code",
   "execution_count": 113,
   "id": "2da8e792",
   "metadata": {},
   "outputs": [
    {
     "name": "stdout",
     "output_type": "stream",
     "text": [
      "34\n"
     ]
    }
   ],
   "source": [
    "print(average)"
   ]
  }
 ],
 "metadata": {
  "colab": {
   "provenance": []
  },
  "kernelspec": {
   "display_name": "Python 3 (ipykernel)",
   "language": "python",
   "name": "python3"
  },
  "language_info": {
   "codemirror_mode": {
    "name": "ipython",
    "version": 3
   },
   "file_extension": ".py",
   "mimetype": "text/x-python",
   "name": "python",
   "nbconvert_exporter": "python",
   "pygments_lexer": "ipython3",
   "version": "3.9.12"
  }
 },
 "nbformat": 4,
 "nbformat_minor": 5
}
