{
 "cells": [
  {
   "cell_type": "markdown",
   "id": "426486dd",
   "metadata": {
    "id": "426486dd"
   },
   "source": [
    "\n",
    "\n",
    "# Practical_1: Variables and Assignments"
   ]
  },
  {
   "cell_type": "markdown",
   "id": "9fb19f0d",
   "metadata": {
    "id": "9fb19f0d"
   },
   "source": [
    "----\n",
    "\n",
    "### Exercise 1:\n",
    "Declare a variable `x` and assign it the value `10`.\n",
    "\n",
    "```python\n",
    "# Exercise 1\n",
      x=10
    "### Exercise 2:\n",
    "Assign the value `True` to a variable called `is_valid`.\n",
    "\n",
    "```python\n",
    "# Exercise 2\n",
   is_valid = True
    "### Exercise 3:\n",
    "Create a string variable `name` with the value \"Python Programming\".\n",
    "\n",
    "```python\n",
    name = "Python Programming"
    "### Exercise 4:\n",
    "Assign the result of `5 + 3` to a variable `sum_result`.\n",
    "\n",
    "```python\n",
    "# Exercise 4\n",
    sum_result = 5 + 3
    "### Exercise 5:\n",
    "Assign multiple variables in one line: `a = 5`, `b = 10`, `c = 15`.\n",
    "\n",
    "```python\n",
    "# Exercise 5\n",
   a, b, c = 5, 10, 15
    "### Exercise 6:\n",
    "Assign the value of one variable `x` to another variable `y`.\n",
    "\n",
    "```python\n",
    "# Exercise 6\n",
       x=y
    "### Exercise 7:\n",
    "Assign a floating-point number `9.8` to a variable `gravity`.\n",
    "\n",
    "```python\n",
    "# Exercise 7\n",
    gravity = 9.8
    "### Exercise 8:\n",
    "Create a variable `country` and assign it the string value of your favorite country.\n",
    "\n",
    "```python\n",
    "# Exercise 8\n",
   country = "Senegal"
    "### Exercise 9:\n",
    "Change the value of variable `age` from `25` to `26` in two separate steps.\n",
    "\n",
    "```python\n",
    "# Exercise 9\n",
    
    "### Exercise 10:\n",
    "Use one variable to store the result of subtracting two numbers `20 - 7`.\n",
    "\n",
    "```python\n",
    "# Exercise 10\n",
    age = 25
    age = 26   
    "### Exercise 11:\n",
    "Assign an integer value and a floating-point value to two different variables.\n",
    "\n",
    "```python\n",
    "# Exercise 11\n",
     result = 20 - 7
    "### Exercise 12:\n",
    "Assign a boolean value `False` to a variable `is_completed`.\n",
    "\n",
    "```python\n",
    "# Exercise 12\n",
   is_completed = False
    "### Exercise 13:\n",
    "Swap the values of two variables `x` and `y`.\n",
    "\n",
    "```python\n",
    "# Exercise 13\n",
   x, y = y, x
    "### Exercise 14:\n",
    "Assign a complex number `3 + 4j` to a variable `complex_num`.\n",
    "\n",
    "```python\n",
    "# Exercise 14\n",
   complex_num = 3 + 4j
    "### Exercise 15:\n",
    
    "```python\n",
    "# Exercise 15\n",
    value = 100      # Initially an integer
    value = "one hundred"  # Now reassigned as a string
    "### Exercise 16:\n",
    "Create two variables `first_name` and `last_name`, and assign them your first and last names.\n",
    "\n",
    "```python\n",
    "# Exercise 16\n",
    first_name = "Séne"
    last_name = "Daouda"
    "### Exercise 17:\n",
    "Create a variable `temperature` and assign it the value of `35.5`.\n",
    "\n",
    "```python\n",
    "# Exercise 17\n",
    temperature = 35.5
    "### Exercise 18:\n",
    "Assign the result of the multiplication of two numbers `8 * 6` to a variable `product`.\n",
    "\n",
    "```python\n",
    "# Exercise 18\n",
    product = 8*3
    "### Exercise 19:\n",
    "Assign a sentence of your choice to a variable `sentence`.\n",
    "\n",
    "```python\n",
    "# Exercise 19\n",
    sentence = "Learning Python is both fun and empowering!"
    "### Exercise 20:\n",
    "Use an assignment to convert a string `'50'` into an integer variable `int_value`.\n",
    "\n",
    "```python\n",
    "# Exercise 20\n",
   int_value = int('50')
    "### Exercise 21:\n",
    "Assign the result of dividing `144` by `12` to a variable `quotient`.\n",
    "\n",
    "```python\n",
    "# Exercise 21\n",
    quotient = 144 / 12
    "### Exercise 22:\n",
    "Assign the remainder of `47 divided by 5` to a variable `remainder`.\n",
    "\n",
    "```python\n",
    "# Exercise 22\n",
   remainder = 47 % 5
    "### Exercise 23:\n",
    "Create a variable `is_student` and assign it the value `True`.\n",
    "\n",
    "```python\n",
    "# Exercise 23\n",
  is_completed = True
    "### Exercise 24:\n",
    "Use a variable to store the result of a modulo operation: `45 % 4`.\n",
    "\n",
    "```python\n",
    "# Exercise 24\n",
    mod_result = 45 % 4
    "### Exercise 25:\n",
    "Create a variable `pi` and assign it the value `3.14159`.\n",
    "\n",
    "```python\n",
    "# Exercise 25\n",
   pi = 3.14159
    "### Exercise 26:\n",
    "Create two variables `length` and `width`, assign them values, and calculate the area of a rectangle.\n",
    "\n",
    "```python\n",
    "# Exercise 26\n",
    length = 10
    width = 5
    area = length * width
    "### Exercise 27:\n",
    "Assign a negative number to a variable `negative_value`.\n",
    "\n",
    "```python\n",
    "# Exercise 27\n",
   negative_value = - 25
    "### Exercise 28:\n",
    "Assign a string containing a special character (e.g., \"Hello, World!\") to a variable `greeting`.\n",
    "\n",
    "```python\n",
    "# Exercise 28\n",
   great = "Hello, World"
    "### Exercise 29:\n",
    "Create a variable `population` and assign it a large integer value (in billions).\n",
    "\n",
    "```python\n",
    "# Exercise 29\n",
    population = 8000000
    "### Exercise 30:\n",
    "Use a variable to store the result of raising `2` to the power of `8`.\n",
    "\n",
    "```python\n",
    "# Exercise 30\n",
    power_result = 2 ** 8
    "### Exercise 31:\n",
    "Assign a list of your favorite fruits to a variable `fruits`.\n",
    "\n",
    "```python\n",
    "# Exercise 31\n",
    power_result = 2 ** 7
    "### Exercise 32:\n",
    "Assign a tuple of three numbers to a variable `coordinates`.\n",
    "\n",
    "```python\n",
    "# Exercise 32\n",
    
    coordinates = (10, 20, 30)
    
    "### Exercise 33:\n",
    "Assign a dictionary with keys `name` and `age` to a variable `person`.\n",
    "\n",
    "```python\n",
    "# Exercise 33\n",
    person = {
    "name": "Alice",
    "age": 30
    }   
    "### Exercise 34:\n",
    "Use variables to store the sum of two floating-point numbers.\n",
    "\n",
    "```python\n",
    "# Exercise 34\n",
    num_1 = 12.5
    num_2 = 7.3
   sum_result = num1 + num2
    "### Exercise 35:\n",
    "Create a variable `is_sunny` and assign it the result of a comparison `10 > 5`.\n",
    "\n",
    "```python\n",
    "# Exercise 35\n",

    is_sunny = 10 > 5
    
    "### Exercise 36:\n"
    "Assign a string and an integer to two different variables, then print both on one line.\n",
    "\n"
    "# Exercise 36\n",
     name = "Alice"
     age = 30
     print(name, age)
    "### Exercise 37:\n",
    "Reassign a variable that originally held a number to a boolean value.\n",
    "\n",
    "```python\n",
    "# Exercise 37\n",
    value = 100
    value = False
    "### Exercise 38:\n",
    "Create a variable `is_weekend` and assign it the result of `False`.\n",
    "\n",
    "```python\n",
    "# Exercise 38\n",
    is_weekend = False
    "### Exercise 39:\n",
    "Assign a multi-line string to a variable `description`.\n",
    "\n",
    "```python\n",
    "# Exercise 39\n",
     description = """Ceci est une chaîne de caractères
     sur plusieurs lignes.
     Elle peut contenir des retours à la ligne,
     des tabulations, et d'autres caractères spéciaux."""
     
    "### Exercise 40:\n",
    "Use variables to store the result of the absolute value of `-25`.\n",
    "\n",
    "```python\n",
    "# Exercise 40\n",
    valeur = -25
    valeur_absolue = abs(valeur)
    
    "### Exercise 41:\n",
    "Assign the result of a floor division `100 // 6` to a variable `floor_div_result`.\n",
    "\n",
    "```python\n",
    "# Exercise 41\n",
    
    floor_div_result = 100 // 6
    
    "### Exercise 42:\n",
    "Assign the result of adding a floating-point number to an integer to a variable `mixed_sum`.\n",
    "\n",
    "```python\n",
    "# Exercise 42\n",
    
    mixed_sum = 3.5 + 7
    
    "### Exercise 43:\n",
    "Assign a boolean value based on the comparison of two variables `a = 10` and `b = 15`.\n",
    "\n",
    "```python\n",
    "# Exercise 43\n",
     a = 10
     b = 15
     is_a_greater = a > b
    "### Exercise 44:\n",
    "Assign a long sentence to a variable and count its characters using `len()`.\n",
    "\n",
    "```python\n",
    "# Exercise 44\n",
     phrase = "Le développement durable est essentiel pour préserver notre planète et assurer un avenir meilleur."
     nombre_de_caracteres = len(phrase)
     print(nombre_de_caracteres)
    "### Exercise 45:\n",
    "Assign a fractional result `7 / 3` to a variable `division_result`.\n",
    "\n",
    "```python\n",
    "# Exercise 45\n",
    division_result = 7 / 3
    "### Exercise 46:\n",
    "Create a variable `speed` and assign it the value of 100 kilometers per hour.\n",
    "\n",
    "```python\n",
    "# Exercise 46\n",
    speed = 150  # kilomètres par heure
    "### Exercise 47:\n",
    "Assign a multi-variable equation like `y = 3x + 5` where `x = 4` to a variable `y`.\n",
    "\n",
    "```python\n",
    "# Exercise 47\n",
    x = 4
    y = 3 * x + 5
    "### Exercise 48:\n",
    "Use variables to calculate and store the average of three numbers.\n",
    "\n",
    "```python\n",
    "# Exercise 48\n",
    num_1 = 12
    num_2 = 18
    num_3 = 24

average = (num1 + num2 + num3) / 3
   ]
  }
 ],
 "metadata": {
  "colab": {
   "provenance": []
  },
  "kernelspec": {
   "display_name": "Python 3 (ipykernel)",
   "language": "python",
   "name": "python3"
  },
  "language_info": {
   "codemirror_mode": {
    "name": "ipython",
    "version": 3
   },
   "file_extension": ".py",
   "mimetype": "text/x-python",
   "name": "python",
   "nbconvert_exporter": "python",
   "pygments_lexer": "ipython3",
   "version": "3.13.8"
  }
 },
 "nbformat": 4,
 "nbformat_minor": 5
}
